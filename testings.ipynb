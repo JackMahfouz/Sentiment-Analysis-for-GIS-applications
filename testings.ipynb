{
 "cells": [
  {
   "cell_type": "code",
   "execution_count": 1,
   "id": "eb2c7361-b3dc-4cd2-8677-ecbb42bbf54e",
   "metadata": {},
   "outputs": [],
   "source": [
    "from Modules.utils import sentiment_clossifier"
   ]
  },
  {
   "cell_type": "code",
   "execution_count": 2,
   "id": "7d758c5d-059a-46c2-a1ef-4ad690d3ffac",
   "metadata": {},
   "outputs": [],
   "source": [
    "import pandas as pd"
   ]
  },
  {
   "cell_type": "code",
   "execution_count": 3,
   "id": "fd7bb7ba-a57a-4d13-8bdd-c18e99589d10",
   "metadata": {},
   "outputs": [
    {
     "data": {
      "text/html": [
       "<div>\n",
       "<style scoped>\n",
       "    .dataframe tbody tr th:only-of-type {\n",
       "        vertical-align: middle;\n",
       "    }\n",
       "\n",
       "    .dataframe tbody tr th {\n",
       "        vertical-align: top;\n",
       "    }\n",
       "\n",
       "    .dataframe thead th {\n",
       "        text-align: right;\n",
       "    }\n",
       "</style>\n",
       "<table border=\"1\" class=\"dataframe\">\n",
       "  <thead>\n",
       "    <tr style=\"text-align: right;\">\n",
       "      <th></th>\n",
       "      <th>Unnamed: 0</th>\n",
       "      <th>Unnamed: 0.1</th>\n",
       "      <th>tweet_id</th>\n",
       "      <th>airline_sentiment</th>\n",
       "      <th>airline_sentiment_confidence</th>\n",
       "      <th>airline</th>\n",
       "      <th>text</th>\n",
       "      <th>tweet_created</th>\n",
       "      <th>x</th>\n",
       "      <th>y</th>\n",
       "    </tr>\n",
       "  </thead>\n",
       "  <tbody>\n",
       "    <tr>\n",
       "      <th>0</th>\n",
       "      <td>0</td>\n",
       "      <td>21</td>\n",
       "      <td>5.702641e+17</td>\n",
       "      <td>positive</td>\n",
       "      <td>1.0</td>\n",
       "      <td>Virgin America</td>\n",
       "      <td>@VirginAmerica I love this graphic. http://t.c...</td>\n",
       "      <td>2015-02-24 08:49:01 -0800</td>\n",
       "      <td>40.748043</td>\n",
       "      <td>-73.992953</td>\n",
       "    </tr>\n",
       "    <tr>\n",
       "      <th>1</th>\n",
       "      <td>1</td>\n",
       "      <td>28</td>\n",
       "      <td>5.702079e+17</td>\n",
       "      <td>negative</td>\n",
       "      <td>1.0</td>\n",
       "      <td>Virgin America</td>\n",
       "      <td>@VirginAmerica amazing to me that we can't get...</td>\n",
       "      <td>2015-02-24 05:05:28 -0800</td>\n",
       "      <td>42.361016</td>\n",
       "      <td>-71.020005</td>\n",
       "    </tr>\n",
       "  </tbody>\n",
       "</table>\n",
       "</div>"
      ],
      "text/plain": [
       "   Unnamed: 0  Unnamed: 0.1      tweet_id airline_sentiment  \\\n",
       "0           0            21  5.702641e+17          positive   \n",
       "1           1            28  5.702079e+17          negative   \n",
       "\n",
       "   airline_sentiment_confidence         airline  \\\n",
       "0                           1.0  Virgin America   \n",
       "1                           1.0  Virgin America   \n",
       "\n",
       "                                                text  \\\n",
       "0  @VirginAmerica I love this graphic. http://t.c...   \n",
       "1  @VirginAmerica amazing to me that we can't get...   \n",
       "\n",
       "               tweet_created          x          y  \n",
       "0  2015-02-24 08:49:01 -0800  40.748043 -73.992953  \n",
       "1  2015-02-24 05:05:28 -0800  42.361016 -71.020005  "
      ]
     },
     "execution_count": 3,
     "metadata": {},
     "output_type": "execute_result"
    }
   ],
   "source": [
    "data = pd.read_csv(\"./Data/SAGIA.csv\")\n",
    "data.head(2)"
   ]
  },
  {
   "cell_type": "code",
   "execution_count": 4,
   "id": "b357dae2-07db-4a87-9eec-681a354dd943",
   "metadata": {},
   "outputs": [],
   "source": [
    "dataframe =  pd.DataFrame()"
   ]
  },
  {
   "cell_type": "code",
   "execution_count": 5,
   "id": "0eb8813c-a3ac-43c6-945e-b198925c798a",
   "metadata": {},
   "outputs": [],
   "source": [
    "dataframe = sentiment_clossifier(data, \"airline\", \"x\", \"y\")"
   ]
  },
  {
   "cell_type": "code",
   "execution_count": 6,
   "id": "935f446c-5bde-4a0a-b29a-f95525385ab1",
   "metadata": {},
   "outputs": [
    {
     "data": {
      "text/html": [
       "<div>\n",
       "<style scoped>\n",
       "    .dataframe tbody tr th:only-of-type {\n",
       "        vertical-align: middle;\n",
       "    }\n",
       "\n",
       "    .dataframe tbody tr th {\n",
       "        vertical-align: top;\n",
       "    }\n",
       "\n",
       "    .dataframe thead th {\n",
       "        text-align: right;\n",
       "    }\n",
       "</style>\n",
       "<table border=\"1\" class=\"dataframe\">\n",
       "  <thead>\n",
       "    <tr style=\"text-align: right;\">\n",
       "      <th></th>\n",
       "      <th>airline</th>\n",
       "      <th>x</th>\n",
       "      <th>y</th>\n",
       "      <th>sentiment</th>\n",
       "    </tr>\n",
       "  </thead>\n",
       "  <tbody>\n",
       "    <tr>\n",
       "      <th>0</th>\n",
       "      <td>Virgin America</td>\n",
       "      <td>40.748043</td>\n",
       "      <td>-73.992953</td>\n",
       "      <td>positive</td>\n",
       "    </tr>\n",
       "    <tr>\n",
       "      <th>1</th>\n",
       "      <td>Virgin America</td>\n",
       "      <td>42.361016</td>\n",
       "      <td>-71.020005</td>\n",
       "      <td>negative</td>\n",
       "    </tr>\n",
       "    <tr>\n",
       "      <th>2</th>\n",
       "      <td>Virgin America</td>\n",
       "      <td>33.945404</td>\n",
       "      <td>-118.406247</td>\n",
       "      <td>neutral</td>\n",
       "    </tr>\n",
       "  </tbody>\n",
       "</table>\n",
       "</div>"
      ],
      "text/plain": [
       "          airline          x           y sentiment\n",
       "0  Virgin America  40.748043  -73.992953  positive\n",
       "1  Virgin America  42.361016  -71.020005  negative\n",
       "2  Virgin America  33.945404 -118.406247   neutral"
      ]
     },
     "execution_count": 6,
     "metadata": {},
     "output_type": "execute_result"
    }
   ],
   "source": [
    "dataframe.head(3)"
   ]
  },
  {
   "cell_type": "code",
   "execution_count": 8,
   "id": "1981e0ab",
   "metadata": {},
   "outputs": [
    {
     "data": {
      "text/plain": [
       "negative    628\n",
       "positive    134\n",
       "neutral      93\n",
       "Name: sentiment, dtype: int64"
      ]
     },
     "execution_count": 8,
     "metadata": {},
     "output_type": "execute_result"
    }
   ],
   "source": [
    "dataframe.sentiment.value_counts()"
   ]
  },
  {
   "cell_type": "code",
   "execution_count": 10,
   "id": "c4ff5745-83ae-44c5-be42-c2eef4ab5f68",
   "metadata": {},
   "outputs": [],
   "source": [
    "dataframe.to_csv(\"./outputs/spatial_semtiment.csv\")"
   ]
  },
  {
   "cell_type": "code",
   "execution_count": null,
   "id": "ccdb2f1a-07d3-4ba5-a489-277ddca6ba1f",
   "metadata": {},
   "outputs": [],
   "source": []
  }
 ],
 "metadata": {
  "kernelspec": {
   "display_name": "base",
   "language": "python",
   "name": "python3"
  },
  "language_info": {
   "codemirror_mode": {
    "name": "ipython",
    "version": 3
   },
   "file_extension": ".py",
   "mimetype": "text/x-python",
   "name": "python",
   "nbconvert_exporter": "python",
   "pygments_lexer": "ipython3",
   "version": "3.9.12"
  },
  "vscode": {
   "interpreter": {
    "hash": "4457d0a99be2c4fc9052ae8ad88d8d06101d06d75c5bfea0d4c17b6cabfcb03a"
   }
  },
  "widgets": {
   "application/vnd.jupyter.widget-state+json": {
    "state": {},
    "version_major": 2,
    "version_minor": 0
   }
  }
 },
 "nbformat": 4,
 "nbformat_minor": 5
}
